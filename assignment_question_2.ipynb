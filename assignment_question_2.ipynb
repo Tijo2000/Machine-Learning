{
 "cells": [
  {
   "cell_type": "markdown",
   "id": "f2cd6671",
   "metadata": {},
   "source": [
    "# Module 2: Control Flow Assignments\n",
    "## Lesson 2.1: Conditional Statements\n",
    "### Assignment 1: Simple if Statement\n",
    "\n",
    "Write a program that asks the user to input a number and prints whether the number is positive.\n",
    "\n",
    "### Assignment 2: if-else Statement\n",
    "\n",
    "Write a program that asks the user to input a number and prints whether the number is positive or negative.\n",
    "\n",
    "### Assignment 3: if-elif-else Statement\n",
    "\n",
    "Write a program that asks the user to input a number and prints whether the number is positive, negative, or zero.\n",
    "\n",
    "### Assignment 4: Nested if Statement\n",
    "\n",
    "Write a program that asks the user to input a number and prints whether the number is positive and even, positive and odd, or negative.\n",
    "\n",
    "## Lesson 2.2: Loops\n",
    "### Assignment 5: for Loop\n",
    "\n",
    "Write a program that prints all the numbers from 1 to 10 using a for loop.\n",
    "\n",
    "### Assignment 6: while Loop\n",
    "\n",
    "Write a program that prints all the numbers from 1 to 10 using a while loop.\n",
    "\n",
    "### Assignment 7: Nested Loops\n",
    "\n",
    "Write a program that prints a 5x5 grid of asterisks (*) using nested loops.\n",
    "\n",
    "### Assignment 8: break Statement\n",
    "\n",
    "Write a program that asks the user to input numbers until they input 0. The program should print the sum of all the input numbers.\n",
    "\n",
    "### Assignment 9: continue Statement\n",
    "\n",
    "Write a program that prints all the numbers from 1 to 10 except 5 using a for loop and continue statement.\n",
    "\n",
    "### Assignment 10: pass Statement\n",
    "\n",
    "Write a program that defines an empty function using the pass statement.\n",
    "\n",
    "### Assignment 11: Combining Loops and Conditionals\n",
    "\n",
    "Write a program that asks the user to input a number and prints all the even numbers from 1 to that number using a for loop.\n",
    "\n",
    "### Assignment 12: Factorial Calculation\n",
    "\n",
    "Write a program that calculates the factorial of a number input by the user using a while loop.\n",
    "\n",
    "### Assignment 13: Sum of Digits\n",
    "\n",
    "Write a program that calculates the sum of the digits of a number input by the user using a while loop.\n",
    "\n",
    "### Assignment 14: Prime Number Check\n",
    "\n",
    "Write a program that checks if a number input by the user is a prime number using a for loop.\n",
    "\n",
    "### Assignment 15: Fibonacci Sequence\n",
    "\n",
    "Write a program that prints the first n Fibonacci numbers, where n is input by the user."
   ]
  },
  {
   "cell_type": "code",
   "execution_count": 1,
   "id": "482d4928",
   "metadata": {},
   "outputs": [
    {
     "name": "stdout",
     "output_type": "stream",
     "text": [
      "3 is positive\n"
     ]
    }
   ],
   "source": [
    "#Write a program that asks the user to input a number and prints whether the number is positive.\n",
    "num  = int(input('Enter a number'))\n",
    "if num>0:\n",
    "    print(f\"{num} is positive\")\n",
    "else:\n",
    "    print(\"negative\")"
   ]
  },
  {
   "cell_type": "code",
   "execution_count": 3,
   "id": "026dca8f",
   "metadata": {},
   "outputs": [
    {
     "name": "stdout",
     "output_type": "stream",
     "text": [
      "even\n"
     ]
    }
   ],
   "source": [
    "#Write a program that asks the user to input a number and prints whether the number is positive and even, positive and odd, or negative.\n",
    "number = float(input(\"Enter a number\"))\n",
    "if number>0:\n",
    "    if number %2==0:\n",
    "        print(\"even\")\n",
    "    else:\n",
    "        print(\"odd\")\n",
    "else:\n",
    "    print('negative')"
   ]
  },
  {
   "cell_type": "code",
   "execution_count": 4,
   "id": "df3f4e7d",
   "metadata": {},
   "outputs": [
    {
     "name": "stdout",
     "output_type": "stream",
     "text": [
      "1\n",
      "2\n",
      "3\n",
      "4\n",
      "5\n",
      "6\n",
      "7\n",
      "8\n",
      "9\n",
      "10\n"
     ]
    }
   ],
   "source": [
    "### Assignment 5: for Loop\n",
    "\n",
    "# Write a program that prints all the numbers from 1 to 10 using a for loop.\n",
    "for i in range(1,11):\n",
    "    print(i)\n",
    "\n"
   ]
  },
  {
   "cell_type": "code",
   "execution_count": 10,
   "id": "e80f639c",
   "metadata": {},
   "outputs": [
    {
     "name": "stdout",
     "output_type": "stream",
     "text": [
      "1\n",
      "2\n",
      "3\n",
      "4\n",
      "5\n",
      "6\n",
      "7\n",
      "8\n",
      "9\n",
      "10\n"
     ]
    }
   ],
   "source": [
    "#### Assignment 6: while Loop\n",
    "\n",
    "# Write a program that prints all the numbers from 1 to 10 using a while loop.\n",
    "count = 1\n",
    "while count<=10:\n",
    "    print(count)\n",
    "    count += 1"
   ]
  },
  {
   "cell_type": "code",
   "execution_count": 19,
   "id": "5676438a",
   "metadata": {},
   "outputs": [
    {
     "name": "stdout",
     "output_type": "stream",
     "text": [
      "* * * * * \n",
      "* * * * * \n",
      "* * * * * \n",
      "* * * * * \n",
      "* * * * * \n"
     ]
    }
   ],
   "source": [
    "### Assignment 7: Nested Loops\n",
    "\n",
    "# Write a program that prints a 5x5 grid of asterisks (*) using nested loops.\n",
    "for i in range(1,6):\n",
    "    for j in range(1,6):\n",
    "        print(\"*\", end=\" \")\n",
    "    print()"
   ]
  },
  {
   "cell_type": "code",
   "execution_count": 4,
   "id": "b16512e4",
   "metadata": {},
   "outputs": [
    {
     "name": "stdout",
     "output_type": "stream",
     "text": [
      "The sum of all the numbers is 4.0.\n"
     ]
    }
   ],
   "source": [
    "#### Assignment 8: break Statement\n",
    "\n",
    "#Write a program that asks the user to input numbers until they input 0. The program should print the sum of all the input numbers.\n",
    "total = 0\n",
    "while True:\n",
    "    number = float(input(\"Enter a number (0 to stop): \"))\n",
    "    if number == 0:\n",
    "        break\n",
    "    total += number\n",
    "print(f\"The sum of all the numbers is {total}.\")"
   ]
  },
  {
   "cell_type": "code",
   "execution_count": 6,
   "id": "2762a964",
   "metadata": {},
   "outputs": [
    {
     "name": "stdout",
     "output_type": "stream",
     "text": [
      "1\n",
      "2\n",
      "3\n",
      "4\n",
      "6\n",
      "7\n",
      "8\n",
      "9\n",
      "10\n"
     ]
    }
   ],
   "source": [
    "### Assignment 9: continue Statement\n",
    "\n",
    "#Write a program that prints all the numbers from 1 to 10 except 5 using a for loop and continue statement.\n",
    "for i in range(1,11):\n",
    "    if i == 5:\n",
    "        continue\n",
    "    print(i)\n"
   ]
  },
  {
   "cell_type": "code",
   "execution_count": 7,
   "id": "5580c20f",
   "metadata": {},
   "outputs": [],
   "source": [
    "### Assignment 10: pass Statement\n",
    "\n",
    "# Write a program that defines an empty function using the pass statement.\n",
    "\n",
    "def empty_function():\n",
    "    pass\n",
    "\n",
    "empty_function()\n"
   ]
  },
  {
   "cell_type": "code",
   "execution_count": 14,
   "id": "d6453452",
   "metadata": {},
   "outputs": [
    {
     "name": "stdout",
     "output_type": "stream",
     "text": [
      "2\n",
      "4\n",
      "6\n",
      "8\n"
     ]
    }
   ],
   "source": [
    "### Assignment 11: Combining Loops and Conditionals\n",
    "\n",
    "#Write a program that asks the user to input a number and prints all the even numbers from 1 to that number using a for loop.\n",
    "num  = int(input('Enter a number'))\n",
    "for i in range(1, num):\n",
    "    # i=0\n",
    "    if i%2==0:\n",
    "        # print(i)\n",
    "        # i=i+1\n",
    "        print(i)\n",
    "    \n",
    "\n",
    "\n",
    "\n",
    "\n"
   ]
  },
  {
   "cell_type": "code",
   "execution_count": 17,
   "id": "6c2d9e16",
   "metadata": {},
   "outputs": [
    {
     "name": "stdout",
     "output_type": "stream",
     "text": [
      "4\n"
     ]
    }
   ],
   "source": [
    "### Assignment 12: Factorial Calculation\n",
    "\n",
    "#Write a program that calculates the factorial of a number input by the user using a while loop.\n",
    "\n",
    "num = int(input('Enter a number'))\n",
    "def factorial(num):\n",
    "    num = num+1\n",
    "    while (num<0):\n",
    "        factorial = num* factorial(num-1)\n",
    "    print(num)\n",
    "\n",
    "factorial(3)\n"
   ]
  },
  {
   "cell_type": "code",
   "execution_count": 21,
   "id": "334b3178",
   "metadata": {},
   "outputs": [
    {
     "name": "stdout",
     "output_type": "stream",
     "text": [
      "The factorial of 3 is: 6\n"
     ]
    }
   ],
   "source": [
    "def factorial(n):\n",
    "    fact = 1\n",
    "    while(n>0):\n",
    "        fact = n*fact\n",
    "        n = n-1\n",
    "    return fact\n",
    "\n",
    "num = float(input('Enter a number: '))\n",
    "result = factorial(int(num))  # Convert num to an integer before calculating factorial\n",
    "\n",
    "print(f\"The factorial of {int(num)} is: {result}\")"
   ]
  },
  {
   "cell_type": "markdown",
   "id": "2a1c54a3",
   "metadata": {},
   "source": []
  },
  {
   "cell_type": "code",
   "execution_count": 22,
   "id": "46ea637f",
   "metadata": {},
   "outputs": [
    {
     "name": "stdout",
     "output_type": "stream",
     "text": [
      "The factorial of 3 is: 6\n"
     ]
    }
   ],
   "source": [
    "def factorial(n):\n",
    "    if n==0:\n",
    "        return 1\n",
    "    else:\n",
    "        return n*factorial(n-1)\n",
    "    \n",
    "# Input from user\n",
    "num = int(input(\"Enter a non-negative integer to compute its factorial: \"))\n",
    "\n",
    "result = factorial(num)\n",
    "print(f\"The factorial of {num} is: {result}\")"
   ]
  },
  {
   "cell_type": "code",
   "execution_count": 23,
   "id": "4a363634",
   "metadata": {},
   "outputs": [
    {
     "name": "stdout",
     "output_type": "stream",
     "text": [
      "The sum of 12345 is 15\n"
     ]
    }
   ],
   "source": [
    "### Assignment 13: Sum of Digits\n",
    "\n",
    "# Write a program that calculates the sum of the digits of a number input by the user using a while loop.\n",
    "def sum_of_digits(number):\n",
    "    sum_of_digits = 0\n",
    "    while number > 0:\n",
    "        digit = number % 10 #Get the last digit\n",
    "        sum_of_digits = sum_of_digits + digit\n",
    "        number = number//10\n",
    "    return sum_of_digits\n",
    "\n",
    "def main():\n",
    "    num = int(input(\"Enter a number\"))\n",
    "    result = sum_of_digits(num)\n",
    "    print(f\"The sum of {num} is {result}\")\n",
    "\n",
    "\n",
    "if __name__ ==\"__main__\":\n",
    "    main()\n",
    "\n",
    "\n"
   ]
  },
  {
   "cell_type": "code",
   "execution_count": 26,
   "id": "edc89356",
   "metadata": {},
   "outputs": [
    {
     "name": "stdout",
     "output_type": "stream",
     "text": [
      "The sum of digits of 12345 is 15\n"
     ]
    }
   ],
   "source": [
    "def sum_of_digits(number):\n",
    "    sum_digits = 0\n",
    "    # Convert number to string to iterate over each character (digit)\n",
    "    for digit_char in str(number):\n",
    "        digit = int(digit_char)  # Convert character back to integer\n",
    "        sum_digits += digit  # Add the digit to the sum\n",
    "    \n",
    "    return sum_digits\n",
    "\n",
    "def main():\n",
    "    # Get input from the user\n",
    "    num = int(input(\"Enter a number: \"))\n",
    "\n",
    "    # Calculate the sum of digits\n",
    "    result = sum_of_digits(num)\n",
    "\n",
    "    # Display the result\n",
    "    print(f\"The sum of digits of {num} is {result}\")\n",
    "\n",
    "# Call the main function to run the program\n",
    "if __name__ == \"__main__\":\n",
    "    main()\n",
    "\n",
    "\n"
   ]
  },
  {
   "cell_type": "code",
   "execution_count": 30,
   "id": "d1b6db9d",
   "metadata": {},
   "outputs": [
    {
     "name": "stdout",
     "output_type": "stream",
     "text": [
      "4 is not a prime number\n"
     ]
    }
   ],
   "source": [
    "# ### Assignment 14: Prime Number Check\n",
    "\n",
    "# Write a program that checks if a number input by the user is a prime number using a for loop.\n",
    "\n",
    "num = float(input(\"Enter a number\"))\n",
    "def is_prime(number):\n",
    "    if number<=1:\n",
    "        return False\n",
    "        \n",
    "    for i in range(2,number):\n",
    "        if num%i==0:\n",
    "            return False\n",
    "        \n",
    "    return True\n",
    "\n",
    "def main():\n",
    "    num = int(input(\"Enter a number\"))\n",
    "    # Check if the number is prime\n",
    "    if is_prime(num):\n",
    "        print(f\"{num} is a prime number\")\n",
    "    else:\n",
    "        print(f\"{num} is not a prime number\")\n",
    "\n",
    "# Call the main function to run the program\n",
    "if __name__ == \"__main__\":\n",
    "    main()\n"
   ]
  },
  {
   "cell_type": "code",
   "execution_count": 28,
   "id": "45ce0706",
   "metadata": {},
   "outputs": [
    {
     "name": "stdout",
     "output_type": "stream",
     "text": [
      "3 is a prime number\n"
     ]
    }
   ],
   "source": [
    "def is_prime(num):\n",
    "    if num <= 1:\n",
    "        return False  # Numbers less than or equal to 1 are not prime\n",
    "    \n",
    "    # Check for factors from 2 to num - 1\n",
    "    for i in range(2, num):\n",
    "        if num % i == 0:\n",
    "            return False  # Found a factor, hence not prime\n",
    "    \n",
    "    return True  # If no factors found, number is prime\n",
    "\n",
    "def main():\n",
    "    # Get input from the user\n",
    "    num = int(input(\"Enter a number: \"))\n",
    "\n",
    "    # Check if the number is prime\n",
    "    if is_prime(num):\n",
    "        print(f\"{num} is a prime number\")\n",
    "    else:\n",
    "        print(f\"{num} is not a prime number\")\n",
    "\n",
    "# Call the main function to run the program\n",
    "if __name__ == \"__main__\":\n",
    "    main()\n"
   ]
  },
  {
   "cell_type": "code",
   "execution_count": 31,
   "id": "6d5faf1d",
   "metadata": {},
   "outputs": [],
   "source": [
    "def fibonacci(n):\n",
    "    if n <= 1:\n",
    "        return n\n",
    "    else:\n",
    "        return fibonacci(n-1) + fibonacci(n-2)"
   ]
  },
  {
   "cell_type": "code",
   "execution_count": 32,
   "id": "e8240b40",
   "metadata": {},
   "outputs": [
    {
     "name": "stdout",
     "output_type": "stream",
     "text": [
      "The Fibonacci number of 3 is 2\n"
     ]
    }
   ],
   "source": [
    "# Example usage:\n",
    "num = int(input(\"Enter a number to find its Fibonacci number: \"))\n",
    "fib_result = fibonacci(num)\n",
    "print(f\"The Fibonacci number of {num} is {fib_result}\")\n"
   ]
  },
  {
   "cell_type": "code",
   "execution_count": 33,
   "id": "011ffaa2",
   "metadata": {},
   "outputs": [
    {
     "name": "stdout",
     "output_type": "stream",
     "text": [
      "Fibonacci sequence up to 3 : [1, 2, 3]\n"
     ]
    }
   ],
   "source": [
    "def fibonacci(limit):\n",
    "    fib_sequence = [1,2]\n",
    "    for i in range(2, limit):\n",
    "        next_fib = fib_sequence[i-1]+fib_sequence[i-2]\n",
    "        if next_fib>limit:\n",
    "            break\n",
    "        fib_sequence.append(next_fib)\n",
    "    return fib_sequence\n",
    "# Example usage:\n",
    "limit = int(input(\"Enter the limit for Fibonacci sequence: \"))\n",
    "fib_sequence = fibonacci(limit)\n",
    "print(\"Fibonacci sequence up to\", limit, \":\", fib_sequence)"
   ]
  },
  {
   "cell_type": "code",
   "execution_count": 35,
   "id": "8e02097a",
   "metadata": {},
   "outputs": [],
   "source": [
    "def fibonacci(n):\n",
    "    if n<=1:\n",
    "        return n\n",
    "    else:\n",
    "        return fibonacci(n-1)+fibonacci(n-2)\n",
    "    "
   ]
  },
  {
   "cell_type": "code",
   "execution_count": 36,
   "id": "0192211d",
   "metadata": {},
   "outputs": [
    {
     "data": {
      "text/plain": [
       "1"
      ]
     },
     "execution_count": 36,
     "metadata": {},
     "output_type": "execute_result"
    }
   ],
   "source": [
    "fibonacci(2)"
   ]
  },
  {
   "cell_type": "code",
   "execution_count": null,
   "id": "3c71152f",
   "metadata": {},
   "outputs": [],
   "source": []
  }
 ],
 "metadata": {
  "kernelspec": {
   "display_name": "Python 3",
   "language": "python",
   "name": "python3"
  },
  "language_info": {
   "codemirror_mode": {
    "name": "ipython",
    "version": 3
   },
   "file_extension": ".py",
   "mimetype": "text/x-python",
   "name": "python",
   "nbconvert_exporter": "python",
   "pygments_lexer": "ipython3",
   "version": "3.11.0"
  }
 },
 "nbformat": 4,
 "nbformat_minor": 5
}
